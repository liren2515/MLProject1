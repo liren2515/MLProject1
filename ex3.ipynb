{
 "cells": [
  {
   "cell_type": "markdown",
   "metadata": {},
   "source": [
    "# Exercise Session 3: Canny Edge Detection"
   ]
  },
  {
   "cell_type": "code",
   "execution_count": null,
   "metadata": {},
   "outputs": [],
   "source": [
    "%matplotlib inline\n",
    "\n",
    "import numpy as np\n",
    "import matplotlib.pyplot as plt\n",
    "import cv2\n",
    "\n",
    "plt.rcParams['figure.figsize'] = (10, 10)\n",
    "plt.rcParams['image.cmap'] = 'gray'"
   ]
  },
  {
   "cell_type": "markdown",
   "metadata": {},
   "source": [
    "## Q2: Applying Convolutional Filters"
   ]
  },
  {
   "cell_type": "markdown",
   "metadata": {
    "collapsed": true
   },
   "source": [
    "Implement a function ```R = applyImageFilter(I,F)``` that takes a\n",
    "gray-scale image $I$ and a filter $F$ as inputs, and returns the result of the convolution\n",
    "of the two.\n",
    "\n",
    "Assume we are given a gray-scale image $I[x, y]$, of size $W \\times H$, such that $0 \\leq x \\leq W-1$,\n",
    "and $0 \\leq y \\leq H-1$. We want to apply a filter $F[i, j]$ to image $I$. The filter $F$ is of size $(2N + 1) \\times (2M + 1)$, such that $−N \\leq i \\leq N$, and $−M \\leq j \\leq M$.\n",
    "\n",
    "The result can be computed as"
   ]
  },
  {
   "cell_type": "markdown",
   "metadata": {},
   "source": [
    "\\begin{align}\n",
    "R[x, y] = (I ∗ F)[x, y] = \\sum_{i=-N}^{N} \\sum_{i=-M}^{M} I[x − i, y − j]~F[i, j]\n",
    "\\end{align}\n"
   ]
  },
  {
   "cell_type": "markdown",
   "metadata": {},
   "source": [
    "* Note: You can use your implemenation of ```applyImageFilter``` from EX2.\n",
    "    -  To avoid numerical issues, make sure $I$ and $F$ are of type float.\n",
    "    -  Apply zero-padding to make the filtered image having the same size as the input."
   ]
  },
  {
   "cell_type": "code",
   "execution_count": null,
   "metadata": {},
   "outputs": [],
   "source": [
    "def applyImageFilter(I, F):\n",
    "    # First input parameter: I\n",
    "    #     Input image. It should be a 2D matrix. According to the notation in the description, it has W rows and \n",
    "    #     H columns.\n",
    "    # Second input parameter: F\n",
    "    #     Filter used for the convolution. It should be a 2D matrix. According to the notation in the decription,\n",
    "    #     it has (2N+1) rows and (2M+1) columns.\n",
    "    # Third input parameter: padding mode\n",
    "    #     This is an optional parameter. Default value will be same (i.e. if you only pass I, F parameters\n",
    "    #     when calling the function, padding will be set to 'same'). The other padding mode is 'valid'\n",
    "    #     See below in the code for the explanaiton of the two modes. \n",
    "    \n",
    "    # If image is not of type float, convert it to float\n",
    "    if not np.issubdtype(I.dtype,float):\n",
    "        I = np.float64(I)\n",
    "        \n",
    "    # If the filter is not of type float, convert it to float\n",
    "    if not np.issubdtype(F.dtype,float):\n",
    "        F = np.float64(F)\n",
    "    \n",
    "    # Shape of Filter\n",
    "    N_, M_ = F.shape\n",
    "    \n",
    "    # Check whether the dimensions of input are accurate, they should be odd\n",
    "    if not N_%2: \n",
    "        raise ValueError('Number of rows in the filter must be odd')\n",
    "        \n",
    "    if not M_%2:\n",
    "        raise ValueError('Number of columns in the filter must be odd')\n",
    "    \n",
    "    # Compute the values for N,M which is used in the above description. \n",
    "    N = np.int64((N_-1)/2)\n",
    "    M = np.int64((M_-1)/2)\n",
    "    \n",
    "    \n",
    "    # Shape of the input image\n",
    "    W, H = I.shape\n",
    "\n",
    "    # In this case, the output image size will have same dimensions as the input\n",
    "    # image (thus the name 'SAME').\n",
    "    # To achieve this, padding size is determined accordingly\n",
    "    # The padding enables us to perform convolutions at the bordering pixels. \n",
    "\n",
    "    I = np.pad(I, ((N,N),(M,M)), mode='constant') # default value for padding is 0 in np.pad\n",
    "    # Initialize output image. Note that the size of R is same as the input I\n",
    "    R = np.zeros((W,H), dtype = np.float64)      \n",
    "    \n",
    "    # Output image size\n",
    "    W_R, H_R = R.shape\n",
    "    \n",
    "    for x in range(W_R): # iterating through rows of the output image in the direction ↓\n",
    "        for y in range(H_R): # iterating through columns of the output image in the direction →\n",
    "            \n",
    "            # compute the value for R[x, y] \n",
    "            # x is the row index\n",
    "            # y is the column index  \n",
    "            for i in range(-N,N+1):\n",
    "                for j in range(-M,M+1):  \n",
    "                    # I[x+M-j, y+N-i]: I is the padded iamge. \n",
    "                    #                 At the x,y iteration, (x,y) corresponds to R[x,y] pixel.\n",
    "                    #                 This is the location that the filter is centered in this iteration.\n",
    "                    #                 R[x,y] corresponds to I[x+M, y+N] pixel in I.\n",
    "                    #                 With the center (x,y), we iterate through it's neighborhood [-N,N] in \n",
    "                    #                 x direction and [-M,M] in y direction. \n",
    "                    #                 This gives us the coordinates I[x+N-i, y+M-j]\n",
    "                    # F[i+N,j+M]: F is the filter. In the definition above its indices ranges from \n",
    "                    #             -N to N in x direction and -M to M in y direction.\n",
    "                    #             But the matrix indices are positive, therefore we shift the indices [i+N,j+M].\n",
    "                    R[x,y] += I[x+N-i, y+M-j]*F[i+N,j+M]\n",
    "                    \n",
    "    return R"
   ]
  },
  {
   "cell_type": "markdown",
   "metadata": {},
   "source": [
    "## Q3: Compute Derivative Images"
   ]
  },
  {
   "cell_type": "markdown",
   "metadata": {},
   "source": [
    "Implement a function ```R = derivativeImage(I, fsize, fsigma)``` that takes a\n",
    "gray-scale image $I$, and the size and the sigma of the gaussian kernel as inputs, \n",
    "and returns the magnitude image of the derivative of $I$."
   ]
  },
  {
   "cell_type": "markdown",
   "metadata": {},
   "source": [
    "\\begin{align}\n",
    "R = \\sqrt{\\frac{\\partial I}{\\partial x}^2 + \\frac{\\partial I}{\\partial y}^2}\n",
    "\\end{align}\n"
   ]
  },
  {
   "cell_type": "code",
   "execution_count": null,
   "metadata": {},
   "outputs": [],
   "source": [
    "def derivativeImage(I, fsize, fsigma):\n",
    "    # -------------------------------\n",
    "    # Implement your code here\n",
    "    # -------------------------------\n",
    "    \n",
    "    # -------------------------------\n",
    "\n",
    "    g = gaussian_filter(fsize, fsigma)\n",
    "    g_d = gaussian_filter_derivative(fsize, fsigma)\n",
    "\n",
    "    Ix = applyImageFilter(I, g)\n",
    "    Ix = applyImageFilter(Ix, g_d.T)\n",
    "\n",
    "    Iy = applyImageFilter(I, g.T)\n",
    "    Iy = applyImageFilter(Ix, g_d)\n",
    "\n",
    "    R = np.sqrt(Ix**2+Iy**2)\n",
    "    return R"
   ]
  },
  {
   "cell_type": "markdown",
   "metadata": {},
   "source": [
    "## Q4: Thresholding"
   ]
  },
  {
   "cell_type": "markdown",
   "metadata": {
    "collapsed": true
   },
   "source": [
    "Implement a function ```R = thresholding(I, threshold)``` that takes a derivative images $I$ and the threshold as inputs, and returns the thinned derivative image.\n",
    "\n",
    "Hint: simply set pixel values below the threshold to 0."
   ]
  },
  {
   "cell_type": "code",
   "execution_count": null,
   "metadata": {},
   "outputs": [],
   "source": [
    "def thresholding(I, threshold):\n",
    "    # -------------------------------\n",
    "    # Implement your code here\n",
    "    # -------------------------------\n",
    "    \n",
    "    # -------------------------------\n",
    "\n",
    "    R = I.copy()\n",
    "    R[I<threshold] = 0\n",
    "    return R"
   ]
  },
  {
   "cell_type": "code",
   "execution_count": null,
   "metadata": {},
   "outputs": [],
   "source": [
    "# -------------------------------\n",
    "# Do not change this code \n",
    "# -------------------------------\n",
    "fsize = 5\n",
    "fsigma = 1\n",
    "threshold = 20\n",
    "I = cv2.imread('images/coins.png',0)\n",
    "\n",
    "I_grad = derivativeImage(I, fsize, fsigma)\n",
    "I_grad_thinned = thresholding(I_grad, threshold)\n",
    "\n",
    "# Visualizing the results\n",
    "fig = plt.figure(1, figsize=(10,15)) \n",
    "fig.add_subplot(1, 3, 1)\n",
    "plt.imshow(I, cmap='gray')\n",
    "plt.title('Original Image')\n",
    "\n",
    "fig.add_subplot(1, 3, 2)\n",
    "plt.imshow(I_grad,cmap='jet')\n",
    "plt.colorbar(fraction=0.046, pad=0.04)\n",
    "plt.title('Gradient magnitude')\n",
    "\n",
    "fig.add_subplot(1, 3, 3)\n",
    "plt.imshow(I_grad_thinned,cmap='jet')\n",
    "plt.colorbar(fraction=0.046, pad=0.04)\n",
    "plt.title('Thinned Gradient magnitude')\n",
    " \n",
    "# -------------------------------"
   ]
  }
 ],
 "metadata": {
  "kernelspec": {
   "display_name": "Python 3 (ipykernel)",
   "language": "python",
   "name": "python3"
  },
  "language_info": {
   "codemirror_mode": {
    "name": "ipython",
    "version": 3
   },
   "file_extension": ".py",
   "mimetype": "text/x-python",
   "name": "python",
   "nbconvert_exporter": "python",
   "pygments_lexer": "ipython3",
   "version": "3.8.12"
  }
 },
 "nbformat": 4,
 "nbformat_minor": 2
}
